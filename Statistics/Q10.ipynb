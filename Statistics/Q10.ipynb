{
 "cells": [
  {
   "attachments": {},
   "cell_type": "markdown",
   "metadata": {},
   "source": [
    "Q-10. A factory produces light bulbs, and the probability of a bulb being defective is 0.05. The factory produces a large batch of 500 light bulbs.\n",
    "\n",
    "a. What is the probability that exactly 20 bulbs are defective?\n",
    "\n",
    "b. What is the probability that at least 10 bulbs are defective?\n",
    "\n",
    "c. What is the probability that at max 15 bulbs are defective?\n",
    "\n",
    "d. On average, how many defective bulbs would you expect in a batch of 500?"
   ]
  },
  {
   "cell_type": "code",
   "execution_count": 3,
   "metadata": {},
   "outputs": [],
   "source": [
    "# To Solve this type problem Binomial Distribution is used:\n",
    "from scipy.stats import binom"
   ]
  },
  {
   "attachments": {},
   "cell_type": "markdown",
   "metadata": {},
   "source": [
    "Given:\n",
    "\n",
    "Total number of bulbs produced by factory in batch, n = 500 Probability of success (defective bulb), p = 0.05"
   ]
  },
  {
   "attachments": {},
   "cell_type": "markdown",
   "metadata": {},
   "source": [
    "\n",
    "a. **What is the probability that exactly 20 bulbs are defective?**"
   ]
  },
  {
   "cell_type": "code",
   "execution_count": 4,
   "metadata": {},
   "outputs": [
    {
     "name": "stdout",
     "output_type": "stream",
     "text": [
      "Probability of exactly 20 defective bulbs:  0.051616192536641056\n"
     ]
    }
   ],
   "source": [
    "# Probability that exactly 20 bulbs are defective:\n",
    "n = 500\n",
    "p = 0.05\n",
    "k = 20 # Number of defective bulbs\n",
    "\n",
    "p_20 = binom.pmf(k, n, p)\n",
    "\n",
    "print(\"Probability of exactly 20 defective bulbs: \", p_20)"
   ]
  },
  {
   "attachments": {},
   "cell_type": "markdown",
   "metadata": {},
   "source": [
    "b.** What is the probability that at least 10 bulbs are defective?**"
   ]
  },
  {
   "cell_type": "code",
   "execution_count": 5,
   "metadata": {},
   "outputs": [
    {
     "name": "stdout",
     "output_type": "stream",
     "text": [
      "Probability of at least 10 defective bulbs:  0.9998316463654902\n"
     ]
    }
   ],
   "source": [
    "# Probability of at least 10 defective bulbs:\n",
    "\n",
    "p_10_or_more = 1 - binom.cdf(9, n, p)\n",
    "\n",
    "print(\"Probability of at least 10 defective bulbs: \", p_10_or_more)"
   ]
  },
  {
   "attachments": {},
   "cell_type": "markdown",
   "metadata": {},
   "source": [
    "**c. What is the probability that at max 15 bulbs are defective?**"
   ]
  },
  {
   "cell_type": "code",
   "execution_count": 6,
   "metadata": {},
   "outputs": [
    {
     "name": "stdout",
     "output_type": "stream",
     "text": [
      "Probability of at most 15 defective bulbs:  0.01985837716300661\n"
     ]
    }
   ],
   "source": [
    "\n",
    "# Probability of at most 15 defective bulbs:\n",
    "\n",
    "p_15_or_less = binom.cdf(15, n, p)\n",
    "\n",
    "print(\"Probability of at most 15 defective bulbs: \", p_15_or_less)"
   ]
  },
  {
   "attachments": {},
   "cell_type": "markdown",
   "metadata": {},
   "source": [
    "**d. On average, how many defective bulbs would you expect in a batch of 500?**"
   ]
  },
  {
   "cell_type": "code",
   "execution_count": 7,
   "metadata": {},
   "outputs": [
    {
     "name": "stdout",
     "output_type": "stream",
     "text": [
      "Expected number of defective bulbs in a batch of 500:  25.0\n"
     ]
    }
   ],
   "source": [
    "# d. Expected number of defective bulbs:\n",
    "\n",
    "expected_defective = n * p\n",
    "\n",
    "print(\"Expected number of defective bulbs in a batch of 500: \", expected_defective)"
   ]
  },
  {
   "cell_type": "code",
   "execution_count": null,
   "metadata": {},
   "outputs": [],
   "source": []
  }
 ],
 "metadata": {
  "kernelspec": {
   "display_name": "Python 3",
   "language": "python",
   "name": "python3"
  },
  "language_info": {
   "codemirror_mode": {
    "name": "ipython",
    "version": 3
   },
   "file_extension": ".py",
   "mimetype": "text/x-python",
   "name": "python",
   "nbconvert_exporter": "python",
   "pygments_lexer": "ipython3",
   "version": "3.10.7"
  },
  "orig_nbformat": 4
 },
 "nbformat": 4,
 "nbformat_minor": 2
}
