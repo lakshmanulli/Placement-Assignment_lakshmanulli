{
 "cells": [
  {
   "attachments": {},
   "cell_type": "markdown",
   "metadata": {},
   "source": [
    "\n",
    "Q-2. Consider a dataset containing the heights (in centimeters) of 1000 individuals. The mean height is 170 cm with a standard deviation of 10 cm. The dataset is approximately normally distributed, and its skewness is approximately zero. Based on this information, answer the following questions:\n",
    "\n",
    "a. What percentage of individuals in the dataset have heights between 160 cm and 180 cm?\n",
    "\n",
    "b. If we randomly select 100 individuals from the dataset, what is the probability that their average height is greater than 175 cm?\n",
    "\n",
    "c. Assuming the dataset follows a normal distribution, what is the z-score corresponding to a height of 185 cm?\n",
    "\n",
    "d. We know that 5% of the dataset has heights below a certain value. What is the approximate height corresponding to this threshold?\n",
    "\n",
    "e. Calculate the coefficient of variation (CV) for the dataset.\n",
    "\n",
    "f. Calculate the skewness of the dataset and interpret the result."
   ]
  },
  {
   "attachments": {},
   "cell_type": "markdown",
   "metadata": {},
   "source": [
    "a. What percentage of individuals in the dataset have heights between 160 cmand 180 cm?\n",
    "\n",
    "Answer\n",
    "\n",
    "The z-score formula is given by: z = (x - μ) / σ\n",
    "\n",
    "For a height of 160 cm: z1 = (160 - 170) / 10 = -1\n",
    "\n",
    "For a height of 180 cm: z2 = (180 - 170) / 10 = 1\n",
    "\n",
    "The area to the left of z = -1 is 0.1587, and the area to the left of z = 1 is 0.8413.\n",
    "\n",
    "Percentage = (0.8413 - 0.1587) * 100% = 68.26%\n",
    "\n",
    "Therefore, approximately 68.26% of individuals in the dataset have heights between 160 cm and 180 cm."
   ]
  },
  {
   "attachments": {},
   "cell_type": "markdown",
   "metadata": {},
   "source": [
    "b. If we randomly select 100 individuals from the dataset, what is the probability that their average height is greater than 175 cm?\n",
    "\n",
    "Answer\n",
    "\n",
    "Standard error = population standard deviation / sqrt(sample size)\n",
    "\n",
    "Standard error = 10 / sqrt(100) = 10 / 10 = 1\n",
    "\n",
    "To find the probability that the average height is greater than 175 cm, we can calculate the z-score for 175 cm:\n",
    "\n",
    "z = (x - μ) / σ = (175 - 170) / 1 = 5\n",
    "\n",
    "Using a standard normal distribution table or a calculator, we can find the area to the right of z = 5, which represents the probability that the average height is greater than 175 cm.\n",
    "\n",
    "The area to the right of z = 5 is very close to 0.\n",
    "\n",
    "Therefore, the probability that the average height of a randomly selected group of 100 individuals is greater than 175 cm is approximately 0."
   ]
  },
  {
   "attachments": {},
   "cell_type": "markdown",
   "metadata": {},
   "source": [
    "c. Assuming the dataset follows a normal distribution, what is the z-scorecorresponding to a height of 185 cm?\n",
    "\n",
    "Answer\n",
    "\n",
    "x = 185 μ = 170\n",
    "\n",
    "z = (x - μ) / σ\n",
    "\n",
    "z = (185 - 170) / 10 = 1.5\n",
    "\n",
    "Therefore, the z-score corresponding to a height of 185 cm is 1.5."
   ]
  },
  {
   "attachments": {},
   "cell_type": "markdown",
   "metadata": {},
   "source": [
    "d. We know that 5% of the dataset has heights below a certain value. What is the approximate height corresponding to this threshold?\n",
    "\n",
    "Answer\n",
    "\n",
    "We can find the z-score that corresponds to a cumulative probability of 0.05.\n",
    "\n",
    "The z-score that corresponds to a cumulative probability of 0.05 is approximately -1.645.\n",
    "\n",
    "x = μ + (z * σ)\n",
    "\n",
    "x = 170 + (-1.645 * 10) = 170 - 16.45 = 153.55\n",
    "\n",
    "Therefore, the approximate height corresponding to the threshold where 5% of the dataset has heights below it is 153.55 cm."
   ]
  },
  {
   "attachments": {},
   "cell_type": "markdown",
   "metadata": {},
   "source": [
    "\n",
    "e. Calculate the coefficient of variation (CV) for the dataset.\n",
    "\n",
    "Answer\n",
    "\n",
    "CV = (σ / μ) * 100%\n",
    "\n",
    "(σ)=10 cm Mean (μ) = 170 cm coefficient of variation (CV) = ?\n",
    "\n",
    "CV = (10 / 170) * 100% = 5.88%\n",
    "\n",
    "The coefficient of variation for the dataset is approximately 5.88%."
   ]
  },
  {
   "attachments": {},
   "cell_type": "markdown",
   "metadata": {},
   "source": [
    "f. Calculate the skewness of the dataset and interpret the result.\n",
    "\n",
    "Answer\n",
    "\n",
    "Dataset has an approximate skewness of zero, it implies that the heights are evenly distributed around the mean without any significant skew to the left or right. The distribution is roughly symmetrical."
   ]
  },
  {
   "attachments": {},
   "cell_type": "markdown",
   "metadata": {},
   "source": []
  }
 ],
 "metadata": {
  "language_info": {
   "name": "python"
  },
  "orig_nbformat": 4
 },
 "nbformat": 4,
 "nbformat_minor": 2
}
