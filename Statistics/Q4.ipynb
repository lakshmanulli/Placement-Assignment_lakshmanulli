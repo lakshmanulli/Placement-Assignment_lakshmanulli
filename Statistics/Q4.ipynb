{
 "cells": [
  {
   "attachments": {},
   "cell_type": "markdown",
   "metadata": {},
   "source": [
    "Q-4. A group of 20 friends decide to play a game in which they each write a number between 1 and 20 on a slip of paper and put it into a hat. They then draw one slip of paper at random. What is the probability that the number on the slip of paper is a perfect square (i.e., 1, 4, 9, or 16)?"
   ]
  },
  {
   "attachments": {},
   "cell_type": "markdown",
   "metadata": {},
   "source": [
    "Answer: \n",
    "\n",
    " The probability of drawing a perfect square number from the hat is 0.2 or 20%.\n",
    "\n",
    "explaination clear\n",
    "\n",
    "Answer:)- There are 4 perfect squares between 1 and 20, namely 1, 4, 9, and 16. There are a total of 20 numbers in the hat.\n",
    "\n",
    "P(event) = favorable outcomes / total outcomes\n",
    "\n",
    "P(perfect square) = 4 / 20 = 1/5\n",
    "\n",
    "Therefore, the probability that the number on the slip of paper is a perfect square is 4/20 = 0.2.\n",
    "\n",
    "In other words, there is a 20% chance that the number on the slip of paper is a perfect square."
   ]
  },
  {
   "cell_type": "code",
   "execution_count": null,
   "metadata": {},
   "outputs": [],
   "source": []
  }
 ],
 "metadata": {
  "language_info": {
   "name": "python"
  },
  "orig_nbformat": 4
 },
 "nbformat": 4,
 "nbformat_minor": 2
}
