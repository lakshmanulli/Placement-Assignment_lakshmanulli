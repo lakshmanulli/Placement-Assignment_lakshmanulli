{
 "cells": [
  {
   "attachments": {},
   "cell_type": "markdown",
   "metadata": {},
   "source": [
    "Q-5. A certain city has two taxi companies: Company A has 80% of the taxis and Company B has 20% of the taxis. Company A's taxis have a 95% success rate for picking up passengers on time, while Company B's taxis have a 90% success rate. If a randomly selected taxi is late, what is the probability that it belongs to Company A?\n",
    "\n",
    "Using Bayes Theorem,\n",
    "\n",
    "Assume that,\n",
    "\n",
    "A: Taxi belongs to Company A B: Taxi belongs to Company B L: Taxi is late\n",
    "\n",
    "The probability that the taxi belongs to Company A given that it is late, P(A/L) = ???"
   ]
  },
  {
   "attachments": {},
   "cell_type": "markdown",
   "metadata": {},
   "source": [
    "\n",
    "\n",
    "Given:\n",
    "\n",
    "P(A) = 0.8 (Company A has 80% of the taxis) P(B) = 0.2 (Company B has 20% of the taxis) P(L/A) = 0.05 (A's having 95% success rate so the probability of being late is 1 - 0.95 = 0.05) P(L/B) = 0.1 (B's having 90% success rate so the probability of being late is 1 - 0.9 = 0.1)\n",
    "\n",
    "As per Bayes Theorem:\n",
    "P(A/L) = (P(L/A) * P(A)) / (P(L/A) * P(A) + P(L/B) * P(B)) = (0.05 * 0.8) / (0.05 * 0.8 + 0.1 * 0.2) = 0.04 / (0.04 + 0.02) = 0.04 / 0.06\n",
    "\n",
    "P(A/L) = 0.6667 ~ 66.67 %"
   ]
  },
  {
   "cell_type": "code",
   "execution_count": null,
   "metadata": {},
   "outputs": [],
   "source": []
  }
 ],
 "metadata": {
  "language_info": {
   "name": "python"
  },
  "orig_nbformat": 4
 },
 "nbformat": 4,
 "nbformat_minor": 2
}
