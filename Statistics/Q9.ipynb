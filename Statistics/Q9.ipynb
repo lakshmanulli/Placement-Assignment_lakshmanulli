{
 "cells": [
  {
   "attachments": {},
   "cell_type": "markdown",
   "metadata": {},
   "source": [
    "Q-9. Given the score of students in multiple exams:\n",
    "\n",
    "Test the hypothesis that the mean scores of all the students are the same. If not, name the\n",
    "student with the highest score."
   ]
  },
  {
   "cell_type": "code",
   "execution_count": null,
   "metadata": {},
   "outputs": [],
   "source": [
    "from IPython.display import Image\n",
    "Image(\"useful/Q9.png\")"
   ]
  },
  {
   "cell_type": "code",
   "execution_count": 1,
   "metadata": {},
   "outputs": [],
   "source": [
    "Name = ['Karan', 'Deepa', 'Karthik', 'Chandan', 'Jeevan']\n",
    "Exam_1 = [85, 70, 90, 75, 95]\n",
    "Exam_2 = [90, 80, 85, 70, 92]\n",
    "Final_Exam = [92, 85, 88, 75, 96]"
   ]
  },
  {
   "cell_type": "code",
   "execution_count": 2,
   "metadata": {},
   "outputs": [
    {
     "name": "stdout",
     "output_type": "stream",
     "text": [
      "One-way ANOVA results:\n",
      "F-statistic: 0.3236947791164659\n",
      "p-value: 0.7295954253321558\n"
     ]
    }
   ],
   "source": [
    "# To test the hypothesis that the mean scores of all the students are the same or not, Using ANOVA Test:\n",
    "\n",
    "from scipy.stats import f_oneway\n",
    "\n",
    "# Perform one-way ANOVA\n",
    "statistic, p_value = f_oneway(Exam_1, Exam_2, Final_Exam)\n",
    "\n",
    "print(\"One-way ANOVA results:\")\n",
    "print(\"F-statistic:\", statistic)\n",
    "print(\"p-value:\", p_value)"
   ]
  },
  {
   "attachments": {},
   "cell_type": "markdown",
   "metadata": {},
   "source": [
    "Observation:\n",
    "\n",
    "H0 = Null Hypothesis => The mean scores of all the students are the same. H1 = Alternative Hypothesis => The mean scores of all the students are not the same. . As p-value > sigificance-value (Mostly Considered = 0.05)\n",
    "\n",
    "Here, We fail to reject Null Hypothesis. ==> H1 = The mean scores of all the students are not the same.\n",
    "\n",
    "Finally, as mean scores of all students are not same. so the name of student who has heighest scores can not be determined."
   ]
  },
  {
   "cell_type": "code",
   "execution_count": null,
   "metadata": {},
   "outputs": [],
   "source": []
  }
 ],
 "metadata": {
  "kernelspec": {
   "display_name": "Python 3",
   "language": "python",
   "name": "python3"
  },
  "language_info": {
   "codemirror_mode": {
    "name": "ipython",
    "version": 3
   },
   "file_extension": ".py",
   "mimetype": "text/x-python",
   "name": "python",
   "nbconvert_exporter": "python",
   "pygments_lexer": "ipython3",
   "version": "3.10.7"
  },
  "orig_nbformat": 4
 },
 "nbformat": 4,
 "nbformat_minor": 2
}
