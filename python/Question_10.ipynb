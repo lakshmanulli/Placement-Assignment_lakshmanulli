{
 "cells": [
  {
   "attachments": {},
   "cell_type": "markdown",
   "metadata": {},
   "source": [
    "Question_10\n",
    "\n",
    "Write a program to count the number of verbs, nouns, pronouns, and adjectives in a given particular phrase or paragraph, and return their respective count as a dictionary. Note -\n",
    "\n",
    "Write code comments wherever required for code\n",
    "You have to write at least 2 additional test cases in which your program will run successfully and provide\n",
    "an explanation for the same."
   ]
  },
  {
   "cell_type": "code",
   "execution_count": 2,
   "metadata": {},
   "outputs": [
    {
     "name": "stdout",
     "output_type": "stream",
     "text": [
      "Requirement already satisfied: nltk in c:\\users\\laksh\\appdata\\local\\programs\\python\\python310\\lib\\site-packages (3.7)\n",
      "Requirement already satisfied: click in c:\\users\\laksh\\appdata\\local\\programs\\python\\python310\\lib\\site-packages (from nltk) (8.0.4)\n",
      "Requirement already satisfied: joblib in c:\\users\\laksh\\appdata\\local\\programs\\python\\python310\\lib\\site-packages (from nltk) (1.2.0)\n",
      "Requirement already satisfied: regex>=2021.8.3 in c:\\users\\laksh\\appdata\\local\\programs\\python\\python310\\lib\\site-packages (from nltk) (2022.4.24)\n",
      "Requirement already satisfied: tqdm in c:\\users\\laksh\\appdata\\local\\programs\\python\\python310\\lib\\site-packages (from nltk) (4.64.0)\n",
      "Requirement already satisfied: colorama in c:\\users\\laksh\\appdata\\local\\programs\\python\\python310\\lib\\site-packages (from click->nltk) (0.4.4)\n",
      "Note: you may need to restart the kernel to use updated packages.\n"
     ]
    }
   ],
   "source": [
    "pip install nltk"
   ]
  },
  {
   "cell_type": "code",
   "execution_count": 4,
   "metadata": {},
   "outputs": [],
   "source": [
    "\n",
    "import re\n",
    "\n",
    "def count_pos_tags(text):\n",
    "    # Define regular expressions for matching different parts of speech\n",
    "    noun_pattern = re.compile(r'\\b[A-Za-z]+[s]?\\b', re.IGNORECASE)\n",
    "    pronoun_pattern = re.compile(r'\\b(I|me|my|mine|you|your|yours|he|him|his|she|her|hers|it|its|we|us|our|ours|they|them|their|theirs)\\b', re.IGNORECASE)\n",
    "    verb_pattern = re.compile(r'\\b[A-Za-z]+(?:s|ed|ing)?\\b', re.IGNORECASE)\n",
    "    adjective_pattern = re.compile(r'\\b[A-Za-z]+\\b', re.IGNORECASE)\n",
    "\n",
    "    # Initialize counts\n",
    "    noun_count = 0\n",
    "    pronoun_count = 0\n",
    "    verb_count = 0\n",
    "    adjective_count = 0\n",
    "\n",
    "    # Find matches for each part of speech\n",
    "    noun_matches = re.findall(noun_pattern, text)\n",
    "    pronoun_matches = re.findall(pronoun_pattern, text)\n",
    "    verb_matches = re.findall(verb_pattern, text)\n",
    "    adjective_matches = re.findall(adjective_pattern, text)\n",
    "\n",
    "    # Count the matches\n",
    "    noun_count = len(noun_matches)\n",
    "    pronoun_count = len(pronoun_matches)\n",
    "    verb_count = len(verb_matches)\n",
    "    adjective_count = len(adjective_matches)\n",
    "\n",
    "    # Create and return the dictionary\n",
    "    pos_counts = {\n",
    "        'nouns': noun_count,\n",
    "        'pronouns': pronoun_count,\n",
    "        'verbs': verb_count,\n",
    "        'adjectives': adjective_count\n",
    "    }\n",
    "    return pos_counts"
   ]
  },
  {
   "cell_type": "code",
   "execution_count": 5,
   "metadata": {},
   "outputs": [
    {
     "name": "stdout",
     "output_type": "stream",
     "text": [
      "{'nouns': 5, 'pronouns': 1, 'verbs': 5, 'adjectives': 5}\n"
     ]
    }
   ],
   "source": [
    "# Test case 1\n",
    "text = \"I love to eat pizza.\"\n",
    "result = count_pos_tags(text)\n",
    "print(result)"
   ]
  },
  {
   "cell_type": "code",
   "execution_count": 6,
   "metadata": {},
   "outputs": [
    {
     "name": "stdout",
     "output_type": "stream",
     "text": [
      "{'nouns': 14, 'pronouns': 1, 'verbs': 14, 'adjectives': 14}\n"
     ]
    }
   ],
   "source": [
    "#Test case 2\n",
    "text = \"The cat chased the mouse. It was quick and agile. The dog barked loudly.\"\n",
    "result = count_pos_tags(text)\n",
    "print(result)"
   ]
  },
  {
   "cell_type": "code",
   "execution_count": null,
   "metadata": {},
   "outputs": [],
   "source": []
  }
 ],
 "metadata": {
  "kernelspec": {
   "display_name": "Python 3",
   "language": "python",
   "name": "python3"
  },
  "language_info": {
   "codemirror_mode": {
    "name": "ipython",
    "version": 3
   },
   "file_extension": ".py",
   "mimetype": "text/x-python",
   "name": "python",
   "nbconvert_exporter": "python",
   "pygments_lexer": "ipython3",
   "version": "3.10.7"
  },
  "orig_nbformat": 4
 },
 "nbformat": 4,
 "nbformat_minor": 2
}
